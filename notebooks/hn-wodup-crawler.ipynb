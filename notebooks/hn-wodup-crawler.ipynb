{
 "cells": [
  {
   "cell_type": "code",
   "execution_count": 30,
   "metadata": {},
   "outputs": [],
   "source": [
    "import pandas as pd\n",
    "import numpy as np\n",
    "import matplotlib.pyplot as plt\n",
    "from ipywidgets import interact\n",
    "import ipywidgets as widgets\n",
    "from getpass import getpass\n",
    "pd.options.display.max_rows = 50\n",
    "\n",
    "import sys\n",
    "sys.path.append('../src/')\n",
    "from wodupscraper import WodUp"
   ]
  },
  {
   "cell_type": "code",
   "execution_count": 32,
   "metadata": {},
   "outputs": [
    {
     "name": "stdout",
     "output_type": "stream",
     "text": [
      "Enter WodUP password:········\n"
     ]
    }
   ],
   "source": [
    "# Wodup login email & password\n",
    "email = 'hasan.nagib@gmail.com'\n",
    "password = getpass('Enter WodUP password:')"
   ]
  },
  {
   "cell_type": "markdown",
   "metadata": {},
   "source": [
    "## `WodUP` scraper object\n",
    "\n",
    "This will let us log in WodUp and navigate to profile we want to crawl. Save all scraped data in `wodup_data` dictionary."
   ]
  },
  {
   "cell_type": "code",
   "execution_count": 33,
   "metadata": {},
   "outputs": [],
   "source": [
    "wodup_data = {}"
   ]
  },
  {
   "cell_type": "code",
   "execution_count": 34,
   "metadata": {},
   "outputs": [
    {
     "name": "stderr",
     "output_type": "stream",
     "text": [
      "/Users/hasannagib/opt/anaconda3/envs/autowod/lib/python3.7/site-packages/pandas/core/arrays/datetimelike.py:1215: PerformanceWarning: Adding/subtracting array of DateOffsets to DatetimeArray not vectorized\n",
      "  PerformanceWarning,\n"
     ]
    }
   ],
   "source": [
    "users = ['danielkim', 'hasannagib']\n",
    "\n",
    "for user in users:\n",
    "    wu = WodUp(email, password, url=f'http://wodup.com/{user}')\n",
    "    movements = ['front-squat', 'back-squat', 'deadlift', 'barbell-bench-press']\n",
    "    time.sleep(2)\n",
    "    for movement in movements:\n",
    "        wu.get_log(movement)\n",
    "    wu.clean_all_logs()\n",
    "    wodup_data[user] = copy.copy(wu)\n",
    "    wu.browser.quit()"
   ]
  },
  {
   "cell_type": "markdown",
   "metadata": {},
   "source": [
    "## Visualize lift data"
   ]
  },
  {
   "cell_type": "code",
   "execution_count": 37,
   "metadata": {},
   "outputs": [],
   "source": [
    "def plot_hist(movement, rep_range, max_to_date=True):\n",
    "    plt.figure(figsize=(10,6))\n",
    "    for user, wu in wodup_data.items():\n",
    "        df_hist = wu.gen_movement_hist(movement)\n",
    "        df_plot = df_hist.query(f'reps>={rep_range[0]} and reps<={rep_range[1]}').sort_values('date')\n",
    "        if max_to_date:\n",
    "            np.maximum.accumulate(df_plot).set_index('date')['weights'].plot(style='-');\n",
    "        else:\n",
    "            df_plot.set_index('date')['weights'].plot(style='-');\n",
    "    plt.grid()\n",
    "    movement_name = ' '.join([i.capitalize() for i in movement.split('-')])\n",
    "    plt.ylabel(f'{movement_name} (lbs)')\n",
    "    plt.legend(wodup_data.keys())"
   ]
  },
  {
   "cell_type": "code",
   "execution_count": 38,
   "metadata": {},
   "outputs": [
    {
     "data": {
      "application/vnd.jupyter.widget-view+json": {
       "model_id": "343622c893204544a97c3d871ea889d7",
       "version_major": 2,
       "version_minor": 0
      },
      "text/plain": [
       "interactive(children=(Dropdown(description='movement', options=('back-squat', 'front-squat', 'deadlift', 'barb…"
      ]
     },
     "metadata": {},
     "output_type": "display_data"
    }
   ],
   "source": [
    "interact(\n",
    "    plot_hist,\n",
    "    movement=['back-squat', 'front-squat', 'deadlift', 'barbell-bench-press'],\n",
    "    rep_range = widgets.IntRangeSlider(\n",
    "        value=[1, 5], min=1, max=10, step=1,\n",
    "        description='rep range:',\n",
    "    )   \n",
    "    \n",
    ");"
   ]
  },
  {
   "cell_type": "code",
   "execution_count": null,
   "metadata": {},
   "outputs": [],
   "source": []
  }
 ],
 "metadata": {
  "kernelspec": {
   "display_name": "autowod",
   "language": "python",
   "name": "autowod"
  },
  "language_info": {
   "codemirror_mode": {
    "name": "ipython",
    "version": 3
   },
   "file_extension": ".py",
   "mimetype": "text/x-python",
   "name": "python",
   "nbconvert_exporter": "python",
   "pygments_lexer": "ipython3",
   "version": "3.7.7"
  }
 },
 "nbformat": 4,
 "nbformat_minor": 2
}
