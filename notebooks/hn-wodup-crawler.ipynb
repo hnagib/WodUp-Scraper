{
 "cells": [
  {
   "cell_type": "code",
   "execution_count": 5,
   "metadata": {},
   "outputs": [],
   "source": [
    "import pandas as pd\n",
    "import numpy as np\n",
    "import matplotlib.pyplot as plt\n",
    "from ipywidgets import interact\n",
    "import ipywidgets as widgets\n",
    "pd.options.display.max_rows = 999\n",
    "import sys\n",
    "sys.path.append('../src/')\n",
    "from wodupscraper import wodup\n",
    "import getpass"
   ]
  },
  {
   "cell_type": "code",
   "execution_count": 6,
   "metadata": {},
   "outputs": [
    {
     "name": "stdout",
     "output_type": "stream",
     "text": [
      "Enter WodUP password:········\n"
     ]
    }
   ],
   "source": [
    "# Wodup login email & password\n",
    "email = 'hasan.nagib@gmail.com'\n",
    "password = getpass.getpass('Enter WodUP password:')"
   ]
  },
  {
   "cell_type": "markdown",
   "metadata": {},
   "source": [
    "## Initialize crawlers\n",
    "This will let us log in WodUp and navigate to profile we want to crawl. "
   ]
  },
  {
   "cell_type": "code",
   "execution_count": 7,
   "metadata": {},
   "outputs": [],
   "source": [
    "wodup_dk = wodup(email, password, url='http://wodup.com/danielkim')\n",
    "wodup_hn = wodup(email, password, url='http://wodup.com/hasannagib')"
   ]
  },
  {
   "cell_type": "markdown",
   "metadata": {},
   "source": [
    "## Pull & clean logs\n",
    "\n",
    "For each profile, pull data for the given movements"
   ]
  },
  {
   "cell_type": "code",
   "execution_count": 9,
   "metadata": {},
   "outputs": [
    {
     "name": "stderr",
     "output_type": "stream",
     "text": [
      "/Users/hasannagib/opt/anaconda3/envs/autowod/lib/python3.7/site-packages/pandas/core/arrays/datetimelike.py:1215: PerformanceWarning: Adding/subtracting array of DateOffsets to DatetimeArray not vectorized\n",
      "  PerformanceWarning,\n"
     ]
    }
   ],
   "source": [
    "movements = ['front-squat', 'back-squat', 'deadlift', 'barbell-bench-press']\n",
    "\n",
    "for wodup in [wodup_dk, wodup_hn]:\n",
    "    for movement in movements:\n",
    "        wodup.get_log(movement)\n",
    "    wodup.clean_logs()"
   ]
  },
  {
   "cell_type": "code",
   "execution_count": 16,
   "metadata": {},
   "outputs": [
    {
     "data": {
      "text/html": [
       "<div>\n",
       "<style scoped>\n",
       "    .dataframe tbody tr th:only-of-type {\n",
       "        vertical-align: middle;\n",
       "    }\n",
       "\n",
       "    .dataframe tbody tr th {\n",
       "        vertical-align: top;\n",
       "    }\n",
       "\n",
       "    .dataframe thead th {\n",
       "        text-align: right;\n",
       "    }\n",
       "</style>\n",
       "<table border=\"1\" class=\"dataframe\">\n",
       "  <thead>\n",
       "    <tr style=\"text-align: right;\">\n",
       "      <th></th>\n",
       "      <th>date</th>\n",
       "      <th>reps</th>\n",
       "      <th>weights</th>\n",
       "      <th>reps_list</th>\n",
       "      <th>weights_list</th>\n",
       "    </tr>\n",
       "  </thead>\n",
       "  <tbody>\n",
       "    <tr>\n",
       "      <th>0</th>\n",
       "      <td>2020-08-13</td>\n",
       "      <td>12-8-5-5-5</td>\n",
       "      <td>95 – 135 – 235 – 245 – 250 lbs</td>\n",
       "      <td>[12, 8, 5, 5, 5]</td>\n",
       "      <td>[95, 135, 235, 245, 250]</td>\n",
       "    </tr>\n",
       "    <tr>\n",
       "      <th>1</th>\n",
       "      <td>2020-07-04</td>\n",
       "      <td>8 x 5</td>\n",
       "      <td>95 – 135 – 185 – 235 – 235 – 235 – 235 – 235 lbs</td>\n",
       "      <td>[5, 5, 5, 5, 5, 5, 5, 5]</td>\n",
       "      <td>[95, 135, 185, 235, 235, 235, 235, 235]</td>\n",
       "    </tr>\n",
       "    <tr>\n",
       "      <th>2</th>\n",
       "      <td>2020-06-28</td>\n",
       "      <td>5-4-3-2-1-1-1-1-1</td>\n",
       "      <td>95 – 135 – 185 – 225 – 255 – 275 – 295 – 295 –...</td>\n",
       "      <td>[5, 4, 3, 2, 1, 1, 1, 1, 1]</td>\n",
       "      <td>[95, 135, 185, 225, 255, 275, 295, 295, 295]</td>\n",
       "    </tr>\n",
       "    <tr>\n",
       "      <th>3</th>\n",
       "      <td>2020-06-09</td>\n",
       "      <td>5-5-5-5-3-1-1-1-0-0</td>\n",
       "      <td>45 – 95 – 135 – 185 – 225 – 245 – 275 – 285 lbs</td>\n",
       "      <td>[5, 5, 5, 5, 3, 1, 1, 1]</td>\n",
       "      <td>[45, 95, 135, 185, 225, 245, 275, 285]</td>\n",
       "    </tr>\n",
       "    <tr>\n",
       "      <th>4</th>\n",
       "      <td>2020-04-05</td>\n",
       "      <td>8-8-7-6-5-4-3-2-1-1-1-1-</td>\n",
       "      <td>45 – 95 – 115 – 135 – 155 – 185 – 225 – 235 – ...</td>\n",
       "      <td>[8, 8, 7, 6, 5, 4, 3, 2, 1, 1, 1, 1]</td>\n",
       "      <td>[45, 95, 115, 135, 155, 185, 225, 235, 245, 25...</td>\n",
       "    </tr>\n",
       "  </tbody>\n",
       "</table>\n",
       "</div>"
      ],
      "text/plain": [
       "        date                       reps  \\\n",
       "0 2020-08-13                 12-8-5-5-5   \n",
       "1 2020-07-04                      8 x 5   \n",
       "2 2020-06-28          5-4-3-2-1-1-1-1-1   \n",
       "3 2020-06-09        5-5-5-5-3-1-1-1-0-0   \n",
       "4 2020-04-05   8-8-7-6-5-4-3-2-1-1-1-1-   \n",
       "\n",
       "                                             weights  \\\n",
       "0                     95 – 135 – 235 – 245 – 250 lbs   \n",
       "1   95 – 135 – 185 – 235 – 235 – 235 – 235 – 235 lbs   \n",
       "2  95 – 135 – 185 – 225 – 255 – 275 – 295 – 295 –...   \n",
       "3    45 – 95 – 135 – 185 – 225 – 245 – 275 – 285 lbs   \n",
       "4  45 – 95 – 115 – 135 – 155 – 185 – 225 – 235 – ...   \n",
       "\n",
       "                              reps_list  \\\n",
       "0                      [12, 8, 5, 5, 5]   \n",
       "1              [5, 5, 5, 5, 5, 5, 5, 5]   \n",
       "2           [5, 4, 3, 2, 1, 1, 1, 1, 1]   \n",
       "3              [5, 5, 5, 5, 3, 1, 1, 1]   \n",
       "4  [8, 8, 7, 6, 5, 4, 3, 2, 1, 1, 1, 1]   \n",
       "\n",
       "                                        weights_list  \n",
       "0                           [95, 135, 235, 245, 250]  \n",
       "1            [95, 135, 185, 235, 235, 235, 235, 235]  \n",
       "2       [95, 135, 185, 225, 255, 275, 295, 295, 295]  \n",
       "3             [45, 95, 135, 185, 225, 245, 275, 285]  \n",
       "4  [45, 95, 115, 135, 155, 185, 225, 235, 245, 25...  "
      ]
     },
     "execution_count": 16,
     "metadata": {},
     "output_type": "execute_result"
    }
   ],
   "source": [
    "wodup_hn.logs['back-squat'].head()"
   ]
  },
  {
   "cell_type": "markdown",
   "metadata": {},
   "source": [
    "## Flatten logs\n",
    "\n",
    "The `gen_hist()` method will flatten the logs dataframe. This will be the input for lift plots."
   ]
  },
  {
   "cell_type": "code",
   "execution_count": 17,
   "metadata": {},
   "outputs": [
    {
     "data": {
      "text/html": [
       "<div>\n",
       "<style scoped>\n",
       "    .dataframe tbody tr th:only-of-type {\n",
       "        vertical-align: middle;\n",
       "    }\n",
       "\n",
       "    .dataframe tbody tr th {\n",
       "        vertical-align: top;\n",
       "    }\n",
       "\n",
       "    .dataframe thead th {\n",
       "        text-align: right;\n",
       "    }\n",
       "</style>\n",
       "<table border=\"1\" class=\"dataframe\">\n",
       "  <thead>\n",
       "    <tr style=\"text-align: right;\">\n",
       "      <th></th>\n",
       "      <th>date</th>\n",
       "      <th>weights</th>\n",
       "      <th>reps</th>\n",
       "    </tr>\n",
       "  </thead>\n",
       "  <tbody>\n",
       "    <tr>\n",
       "      <th>0</th>\n",
       "      <td>2020-08-13</td>\n",
       "      <td>95</td>\n",
       "      <td>12</td>\n",
       "    </tr>\n",
       "    <tr>\n",
       "      <th>1</th>\n",
       "      <td>2020-08-13</td>\n",
       "      <td>135</td>\n",
       "      <td>8</td>\n",
       "    </tr>\n",
       "    <tr>\n",
       "      <th>2</th>\n",
       "      <td>2020-08-13</td>\n",
       "      <td>235</td>\n",
       "      <td>5</td>\n",
       "    </tr>\n",
       "    <tr>\n",
       "      <th>3</th>\n",
       "      <td>2020-08-13</td>\n",
       "      <td>245</td>\n",
       "      <td>5</td>\n",
       "    </tr>\n",
       "    <tr>\n",
       "      <th>4</th>\n",
       "      <td>2020-08-13</td>\n",
       "      <td>250</td>\n",
       "      <td>5</td>\n",
       "    </tr>\n",
       "    <tr>\n",
       "      <th>5</th>\n",
       "      <td>2020-07-04</td>\n",
       "      <td>95</td>\n",
       "      <td>5</td>\n",
       "    </tr>\n",
       "    <tr>\n",
       "      <th>6</th>\n",
       "      <td>2020-07-04</td>\n",
       "      <td>135</td>\n",
       "      <td>5</td>\n",
       "    </tr>\n",
       "    <tr>\n",
       "      <th>7</th>\n",
       "      <td>2020-07-04</td>\n",
       "      <td>185</td>\n",
       "      <td>5</td>\n",
       "    </tr>\n",
       "    <tr>\n",
       "      <th>8</th>\n",
       "      <td>2020-07-04</td>\n",
       "      <td>235</td>\n",
       "      <td>5</td>\n",
       "    </tr>\n",
       "    <tr>\n",
       "      <th>9</th>\n",
       "      <td>2020-07-04</td>\n",
       "      <td>235</td>\n",
       "      <td>5</td>\n",
       "    </tr>\n",
       "  </tbody>\n",
       "</table>\n",
       "</div>"
      ],
      "text/plain": [
       "        date  weights  reps\n",
       "0 2020-08-13       95    12\n",
       "1 2020-08-13      135     8\n",
       "2 2020-08-13      235     5\n",
       "3 2020-08-13      245     5\n",
       "4 2020-08-13      250     5\n",
       "5 2020-07-04       95     5\n",
       "6 2020-07-04      135     5\n",
       "7 2020-07-04      185     5\n",
       "8 2020-07-04      235     5\n",
       "9 2020-07-04      235     5"
      ]
     },
     "execution_count": 17,
     "metadata": {},
     "output_type": "execute_result"
    }
   ],
   "source": [
    "wodup_hn.gen_hist('back-squat').head(10)"
   ]
  },
  {
   "cell_type": "markdown",
   "metadata": {},
   "source": [
    "## Visualize lift data"
   ]
  },
  {
   "cell_type": "code",
   "execution_count": 10,
   "metadata": {},
   "outputs": [],
   "source": [
    "def plot_hist(movement, rep_range, max_to_date=True):\n",
    "    plt.figure(figsize=(10,6))\n",
    "    for wodup in [wodup_dk, wodup_hn]:\n",
    "        df_hist = wodup.gen_hist(movement)\n",
    "        df_plot = df_hist.query(f'reps>={rep_range[0]} and reps<={rep_range[1]}').sort_values('date')\n",
    "        if max_to_date:\n",
    "            np.maximum.accumulate(df_plot).set_index('date')['weights'].plot(style='-');\n",
    "        else:\n",
    "            df_plot.set_index('date')['weights'].plot(style='-');\n",
    "    plt.grid()\n",
    "    movement_name = ' '.join([i.capitalize() for i in movement.split('-')])\n",
    "    plt.ylabel(f'{movement_name} (lbs)')\n",
    "    plt.legend(['DK Bro', 'Me'])"
   ]
  },
  {
   "cell_type": "code",
   "execution_count": 11,
   "metadata": {},
   "outputs": [
    {
     "data": {
      "application/vnd.jupyter.widget-view+json": {
       "model_id": "ece66c9b341d490dbc264f49afefe200",
       "version_major": 2,
       "version_minor": 0
      },
      "text/plain": [
       "interactive(children=(Dropdown(description='movement', options=('back-squat', 'front-squat', 'deadlift', 'barb…"
      ]
     },
     "metadata": {},
     "output_type": "display_data"
    }
   ],
   "source": [
    "interact(\n",
    "    plot_hist,\n",
    "    movement=['back-squat', 'front-squat', 'deadlift', 'barbell-bench-press'],\n",
    "    rep_range = widgets.IntRangeSlider(\n",
    "        value=[1, 5], min=1, max=10, step=1,\n",
    "        description='rep range:',\n",
    "    )   \n",
    "    \n",
    ");"
   ]
  },
  {
   "cell_type": "code",
   "execution_count": 12,
   "metadata": {},
   "outputs": [
    {
     "data": {
      "image/png": "[encoded data removed]",
      "text/plain": [
       "<Figure size 1152x864 with 4 Axes>"
      ]
     },
     "metadata": {
      "needs_background": "light"
     },
     "output_type": "display_data"
    }
   ],
   "source": [
    "plt.figure(figsize=(16,12))\n",
    "\n",
    "rep_range=(1,5)\n",
    "max_to_date=True\n",
    "for i, movement in enumerate(['back-squat', 'front-squat', 'deadlift', 'barbell-bench-press']):\n",
    "    plt.subplot(2,2,i+1)\n",
    "    for wodup in [wodup_dk, wodup_hn]:\n",
    "        df_hist = wodup.gen_hist(movement)\n",
    "        df_plot = df_hist.query(f'reps>={rep_range[0]} and reps<={rep_range[1]}').sort_values('date')\n",
    "        if max_to_date:\n",
    "            np.maximum.accumulate(df_plot).set_index('date')['weights'].plot(style='-');\n",
    "        else:\n",
    "            df_plot.set_index('date')['weights'].plot(style='-');\n",
    "    plt.grid()\n",
    "    movement_name = ' '.join([i.capitalize() for i in movement.split('-')])\n",
    "    plt.ylabel(f'{movement_name} (lbs)')\n",
    "    plt.legend(['DK Bro', 'Hasan'])"
   ]
  }
 ],
 "metadata": {
  "kernelspec": {
   "display_name": "autowod",
   "language": "python",
   "name": "autowod"
  },
  "language_info": {
   "codemirror_mode": {
    "name": "ipython",
    "version": 3
   },
   "file_extension": ".py",
   "mimetype": "text/x-python",
   "name": "python",
   "nbconvert_exporter": "python",
   "pygments_lexer": "ipython3",
   "version": "3.7.7"
  }
 },
 "nbformat": 4,
 "nbformat_minor": 2
}
