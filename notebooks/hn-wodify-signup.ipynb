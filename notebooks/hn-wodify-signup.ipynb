{
 "cells": [
  {
   "cell_type": "markdown",
   "metadata": {},
   "source": [
    "## Automating Wodify Class SignUp\n",
    "\n",
    "Using Selenium to automate class sign up on Wodify"
   ]
  },
  {
   "cell_type": "code",
   "execution_count": 1,
   "metadata": {},
   "outputs": [],
   "source": [
    "import os\n",
    "import sys\n",
    "sys.path.append('../src/')\n",
    "from wodifycrawler import Wodify"
   ]
  },
  {
   "cell_type": "code",
   "execution_count": 2,
   "metadata": {},
   "outputs": [],
   "source": [
    "# Log into Wodify\n",
    "w = Wodify(\n",
    "    email='hasan.nagib@gmail.com',\n",
    "    password=os.environ['wodify_password']\n",
    ")\n",
    "\n",
    "# Sign up for class\n",
    "w.signup_for_class(\n",
    "    days_from_now=1, \n",
    "    class_time='7:15 AM'\n",
    ")"
   ]
  },
  {
   "cell_type": "code",
   "execution_count": null,
   "metadata": {},
   "outputs": [],
   "source": []
  }
 ],
 "metadata": {
  "kernelspec": {
   "display_name": "wodup",
   "language": "python",
   "name": "wodup"
  },
  "language_info": {
   "codemirror_mode": {
    "name": "ipython",
    "version": 3
   },
   "file_extension": ".py",
   "mimetype": "text/x-python",
   "name": "python",
   "nbconvert_exporter": "python",
   "pygments_lexer": "ipython3",
   "version": "3.7.7"
  }
 },
 "nbformat": 4,
 "nbformat_minor": 2
}
